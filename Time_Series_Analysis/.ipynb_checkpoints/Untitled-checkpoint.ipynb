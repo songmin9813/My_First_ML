{
 "cells": [
  {
   "cell_type": "markdown",
   "id": "165e0ab6",
   "metadata": {},
   "source": [
    "- 이 문서는 테스트용입니다.\n",
    "- 노트북 상에서의 원활한 커밋이 되는지 확인하기 위해 작성된 파일입니다."
   ]
  }
 ],
 "metadata": {
  "kernelspec": {
   "display_name": "Python 3",
   "language": "python",
   "name": "python3"
  },
  "language_info": {
   "codemirror_mode": {
    "name": "ipython",
    "version": 3
   },
   "file_extension": ".py",
   "mimetype": "text/x-python",
   "name": "python",
   "nbconvert_exporter": "python",
   "pygments_lexer": "ipython3",
   "version": "3.8.8"
  }
 },
 "nbformat": 4,
 "nbformat_minor": 5
}
