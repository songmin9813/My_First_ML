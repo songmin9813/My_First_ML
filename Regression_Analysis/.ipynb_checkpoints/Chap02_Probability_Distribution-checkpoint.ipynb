{
 "cells": [
  {
   "cell_type": "markdown",
   "id": "67ed6b32",
   "metadata": {},
   "source": [
    "## 확률\n",
    "- **확률실험(Random experiment)** : 다음과 같은 속성을 지닌 관찰이나 인위적인 실험\n",
    "  - 실험의 결과는 미리 알 수 없다.(주사위는 굴리지 전까지 어떤 값이 나오는지 모름)\n",
    "  - 실험에서 일어날 수 있는 모든 결과는 사전에 알려져 있다.(주사위의 모든 눈금을 알고 있다.)\n",
    "  - 이론적으로는 실험을 반복할 수 있다.(주사위는 여러번 굴려서 반복이 가능하다.)\n",
    "  \n",
    "  \n",
    "- **표본공간(Sample space)** : 모든 결과들의 모임\n",
    "- **근원사건(Sample outcome)** : 표본 공간의 원소\n",
    "- **사건(Event)** : 표본 공간의 부분집합, 근원사건의 집합\n",
    "  - **배반사건(Mutually exclusive events)** : 서로 교집합이 공집합인 사건"
   ]
  },
  {
   "cell_type": "markdown",
   "id": "27fc6420",
   "metadata": {},
   "source": [
    "- EX1) 주사위를 굴리는 **확률실험**. 주사위를 던지는 시행. 주사위 눈의 숫자로 결과를 표시함\n",
    "- **표본공간(Sample space)** : $S=\\{1,2,3,4,5,6\\}$\n",
    "- **근원사건(Sample outcome)** : $1,2,3,4,5,6$\n",
    "- **사건(Events)** : 짝수인 사건 $A=\\{2,4,6\\}$"
   ]
  },
  {
   "cell_type": "markdown",
   "id": "b902f3cf",
   "metadata": {},
   "source": [
    "- EX2) 두 동전을 던지는 **확률실험**. H,T로 쌍의 결과를 표시한다.\n",
    "- **표본공간(Sample space)**: $S=\\{(H,H),(H,T),(T,H),(T,T)\\}$\n",
    "- **근원사건(Sample outcome)** : $(H,H),(H,T),(T,H),(T,T)$\n",
    "- **사건(Events)** : 앞면이 한번이라도 나오는 사건 $A=\\{(H,H),(H,T),(T,H)\\}$"
   ]
  },
  {
   "cell_type": "markdown",
   "id": "fe8d3a86",
   "metadata": {},
   "source": [
    "- **확률**\n",
    "  - 어떠한 사건이 일어날 가능성의 정도\n",
    "    - $P(\\{2,4,6\\})=P(A)$로 표기\n",
    "  - 근원사건이 일어날 가능성이 동일할 때의 계산(모든 주사위 눈금은 동일한 확률로 나온다는 가정)\n",
    "    - $P(A)=\\frac{|A|}{|S|}=\\frac{3}{6}=\\frac{1}{2}$\n",
    "  - 확률의 공리\n",
    "    - $0 \\leq P(A) \\leq 1$\n",
    "    - $P(S)=1$ : 모든 경우가 일어날 가능성은 1\n",
    "    - 어떠한 사건들$(A_i,i-1,...,n)$이 서로 배반사건일 때, 이 사건들의 합사건의 확률은 각각의 사건이 일어날 확률의 합과 같다.\n",
    "      - $P(\\cup_{(i=1,...,n)}A_i)=\\sum_{i=1}^{n}P(A_i)$"
   ]
  },
  {
   "cell_type": "markdown",
   "id": "e03e431c",
   "metadata": {},
   "source": [
    "- **조건부 확률**\n",
    "  - 사건 B에 대한 정보가 주어졌을 때, 사건 A의 교정된 확률\n",
    "  - B가 주어졌을 때, 사건 A의 조건부 확률 : $P(A|B)=\\frac{P(A \\cap B)}{P(B)}$"
   ]
  },
  {
   "attachments": {
    "ex2.jpg": {
     "image/jpeg": "[encoded data removed]"
    }
   },
   "cell_type": "markdown",
   "id": "e9044126",
   "metadata": {},
   "source": [
    "![ex2.jpg](attachment:ex2.jpg)"
   ]
  },
  {
   "cell_type": "markdown",
   "id": "62f38e2c",
   "metadata": {},
   "source": [
    "- **독립**\n",
    "  - 사건 A와 B가 서로에게 아무런 영향을 미치지 않을 때\n",
    "  - $P(A|B)=P(A),P(B|A)=P(B)$\n",
    "    - $P(A \\cap B)=P(A)P(B)$"
   ]
  },
  {
   "cell_type": "markdown",
   "id": "50c059f6",
   "metadata": {},
   "source": [
    "- 확률 정의가 되었는데, 수학적으로 다루기 위해 사건의 개념을 변수의 개념으로 가져오게 된다.\n",
    "- **확률변수**\n",
    "  - 각각의 근원사건들에 실수값을 대응시키는 함수\n",
    "  - ex) 두 쌍의 동전을 던지는 확률실험에서, $X$ : 동전 앞면의 개수\n",
    "  - $X((H,H))=2$\n",
    "  - $X((H,T))=1$\n",
    "  - $X((T,H))=1$\n",
    "  - $X((T,T))=0$"
   ]
  },
  {
   "cell_type": "markdown",
   "id": "d77f2080",
   "metadata": {},
   "source": [
    "- **확률분포**\n",
    "  - 확률변수에서 확률값으로의 함수. 주로 $f(x)$로 표기.\n",
    "  - $f(2)=P(X=2)=P(\\{(H,H)\\})=\\frac{1}{4}$\n",
    "  - $f(1)=P(X=1)=P(\\{(H,T),(T,H)\\})=\\frac{2}{4}=\\frac{1}{2}$\n",
    "  - $f(0)=P(X=0)=P(\\{(T,T)\\})=\\frac{1}{4}$\n",
    "  \n",
    "  \n",
    "- 확률변수가 정의되면, 확률분포도 정의된다"
   ]
  },
  {
   "cell_type": "markdown",
   "id": "92104886",
   "metadata": {},
   "source": [
    "- **확률변수의 기대값**\n",
    "  - 확률변수의 중심 경향값. 흔히 평균이라 칭함\n",
    "  - $E(X)=\\mu=\\sum_{i=1}^{n}x_if(x_i)$\n",
    "- **확률변수의 분산**\n",
    "  - $Var(X)=E(X-\\mu)^2=\\sum_{i=1}^{n}(x_i-\\mu)^2\\cdot f(x_i)$"
   ]
  },
  {
   "cell_type": "markdown",
   "id": "9bf63b5f",
   "metadata": {},
   "source": [
    "- **공분산**\n",
    "  - $Cov(X,Y)=E(X-\\mu_X)(Y-\\mu_Y)=\\sum_{i=1}^{n}(x_i-\\mu_X)(y_i-\\mu_Y)f(x_iy_i)$\n",
    "    - $f(x_iy_i)$ : $x_i,y_i$가 동시에 일어날 확률\n",
    "    - 공분산이 양의 값을 가진다 : 각각의 중심으로부터 같은 방향으로 움직인다.\n",
    "    - 공분산이 음의 값을 가진다 : 각각의 중심으로부터 서로 다른 방향으로 움직인다.\n",
    "  - 두 개의 확률변수 X,Y가 상호간에 어떤 관계를 가지며 변화하는가를 나타낸 측도(선형적 관계에서)\n",
    "  - $X,Y$가 독립이면 $Cov(X,Y)=0$"
   ]
  },
  {
   "cell_type": "markdown",
   "id": "2fcabf17",
   "metadata": {},
   "source": [
    "- ex) 공분산이 100이다 : 양의 값을 가진다. 같은 방향으로 움직인다 같은 **제한된 정보만을 전달한다는 단점**이 존재\n",
    "- **상관계수**\n",
    "  - 공분산을 단위화한 값\n",
    "  - $\\rho=\\frac{Cov(X,Y)}{\\sqrt{Var(X)Var(Y)}},-1 \\leq \\rho \\leq 1$\n",
    "  - 공분산에 각 분산을 나누어줌으로 -1과 1 사이의 값을 가지게 함(일종의 정규화 과정)\n",
    "  - 1에 가까울수록 같은 방향(상관관계가 있다)는 의미\n",
    "  - -1에 가까울수록 다른 방향(상관관계가 없다)는 의미\n",
    "  - 공분산,상관계수가 0이라고 해서 반드시 독립인 것은 아니다(정규분포가 0일때만 독립)"
   ]
  },
  {
   "cell_type": "markdown",
   "id": "0c448826",
   "metadata": {},
   "source": [
    "### 이산형 확률분포 - 0과 1로 구성되는 확률 등\n",
    "- **베르누이 실행**\n",
    "  - 실험의 결과의 범주가 2가지인 경우 (성공/실패)\n",
    "  - $X=1$(성공) / $X=0$(실패)\n",
    "    - $f(x)=p^x(1-p)^{1-x}$\n",
    "  - ex) 앞면이 성공인 동전 던지기"
   ]
  },
  {
   "cell_type": "markdown",
   "id": "57d9207b",
   "metadata": {},
   "source": [
    "- **이항분포**\n",
    "  - 성공확률이 p인 베르누이 시행을 독립적으로 n번 시행했을 때 성공한 횟수의 분포\n",
    "    - $f(x)=\\frac{n!}{x!(n-x)!} \\cdot p^x(1-p)^{n-x}$\n",
    "      - $n \\leq x \\leq 0$, 정수\n",
    "      - $\\frac{n!}{x!(n-x)!} = _nC_x$ : 조합 공식\n",
    "    - ex) 동전 n번 던져 앞면이 나온 횟수"
   ]
  },
  {
   "cell_type": "markdown",
   "id": "0fc4be2f",
   "metadata": {},
   "source": [
    "- **다항분포**\n",
    "  - 다항시행: 1회의 시행결과로 나올 수 있는 범주가 3개 이상이 되는 확률 시험\n",
    "  - K개 범주의 다항 시행을 n번 반복했을 때, 각 범주가 나타나는 횟수의 분포\n",
    "    - $f(x_1,...,x_K)=\\frac{n!}{x_1!...x_K!}p_1^{x_1}...p_k^{x_K}$\n",
    "      - $x_K=(n-\\sum_{k=1}{N-1}x_k),p_k=1-\\sum_{k=1}^{K-1}p_k,0 \\leq x_k \\leq n, 정수$\n",
    "  - ex) 주사위 n번 던져 각 눈이 나온 횟수\n",
    "\n",
    "\n",
    "- 각각의 확률분포의 종류와 차이점 정도만 알아도 문제될 것은 없음"
   ]
  },
  {
   "cell_type": "markdown",
   "id": "3c850978",
   "metadata": {},
   "source": [
    "- **포아송 분포**\n",
    "  - 주어진 단위 구간 내에 평균적으로 발생하는 사건의 횟수가 정해져 있을 때, 동일 단위에서의 발생 횟수\n",
    "    - 사건의 평균 발생횟수는 단위 구간에 비례\n",
    "      - ex) 평균적으로 한시간 당 전화가 오는 확률은 포아송 분포를 따른다. 그렇다면 두 시간에도 비례할 것\n",
    "    - 두 개 이상의 사건이 동시에 발생할 확률은 0에 가깝다\n",
    "      - ex) 한 사람이 동시에 두 번의 전화를 할 수는 없음\n",
    "    - 어떤 단위구간의 사건의 발생은 다른 단위 구간의 발생으로부터 독립적\n",
    "      - ex) 현재 2분 뒤에 통화가 올 확률이 다음 2분 뒤에 통화가 올 확률에 영향을 끼치지 않음\n",
    "  - 평균이 $\\mu$인 포아송 분포\n",
    "    - $f(x)=\\frac{\\mu^xe^{-\\mu}}{x!}$\n",
    "      - **식이 다음가면 중요해질 수 있다고 함**\n",
    "    - $x \\geq 0, 정수$\n",
    "  - ex) 1시간동안 걸려온 전화의 수, 100페이지 안에 있는 오타의 수"
   ]
  },
  {
   "cell_type": "markdown",
   "id": "a426c7c9",
   "metadata": {},
   "source": [
    "### 연속형 확률분포\n",
    "- 지수분포\n",
    "  - 평균 소요시간이 $\\mu$인 사건이 발생하기까지 걸리는 소요시간\n",
    "    - $f(x)=\\frac{1}{\\mu}e^{-\\frac{1}{\\mu}x}$\n",
    "      - $x \\geq 0$\n",
    "- **정규분포**\n",
    "  - $f(x)=\\frac{1}{\\sqrt{2\\pi\\sigma^2}}e^{-\\frac{(x-\\mu)^2}{2\\sigma^2}}$\n",
    "  - 구간 확률이 특정한 값으로 정의되어있다는 특징을 가짐\n",
    "  - $[-\\sigma,\\sigma]$범위(표준편차)에서의 구간은 68.2% 국룰임 "
   ]
  },
  {
   "attachments": {
    "ex2.jpg": {
     "image/jpeg": "[encoded data removed]"
    }
   },
   "cell_type": "markdown",
   "id": "f3c05344",
   "metadata": {},
   "source": [
    "![ex2.jpg](attachment:ex2.jpg)"
   ]
  },
  {
   "cell_type": "markdown",
   "id": "7c346bc1",
   "metadata": {},
   "source": [
    "- **표준정규분포**\n",
    "  - 평균이 0이고 분산이 1인 정규분포(정규분포의 많은 케이스 중 하나)"
   ]
  },
  {
   "cell_type": "code",
   "execution_count": null,
   "id": "fa681f29",
   "metadata": {},
   "outputs": [],
   "source": []
  }
 ],
 "metadata": {
  "kernelspec": {
   "display_name": "Python 3",
   "language": "python",
   "name": "python3"
  },
  "language_info": {
   "codemirror_mode": {
    "name": "ipython",
    "version": 3
   },
   "file_extension": ".py",
   "mimetype": "text/x-python",
   "name": "python",
   "nbconvert_exporter": "python",
   "pygments_lexer": "ipython3",
   "version": "3.8.8"
  }
 },
 "nbformat": 4,
 "nbformat_minor": 5
}
